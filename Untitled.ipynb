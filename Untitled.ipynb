{
 "cells": [
  {
   "cell_type": "code",
   "execution_count": 17,
   "metadata": {},
   "outputs": [],
   "source": [
    "import numpy as np\n",
    "import pandas as pd"
   ]
  },
  {
   "cell_type": "code",
   "execution_count": 18,
   "metadata": {},
   "outputs": [],
   "source": [
    "data = np.genfromtxt('diabetes.csv', delimiter=',')"
   ]
  },
  {
   "cell_type": "code",
   "execution_count": 19,
   "metadata": {},
   "outputs": [],
   "source": [
    "labels = data[:,-1]\n",
    "data = data[:,:-1]"
   ]
  },
  {
   "cell_type": "markdown",
   "metadata": {},
   "source": [
    "# Normalização"
   ]
  },
  {
   "cell_type": "code",
   "execution_count": 21,
   "metadata": {},
   "outputs": [],
   "source": [
    "from sklearn.preprocessing import MinMaxScaler"
   ]
  },
  {
   "cell_type": "code",
   "execution_count": 12,
   "metadata": {},
   "outputs": [],
   "source": [
    "scaler = MinMaxScaler()\n",
    "data = scaler.fit_transform(data)"
   ]
  },
  {
   "cell_type": "code",
   "execution_count": 24,
   "metadata": {},
   "outputs": [
    {
     "data": {
      "text/plain": [
       "(0.0, 17.0)"
      ]
     },
     "execution_count": 24,
     "metadata": {},
     "output_type": "execute_result"
    }
   ],
   "source": [
    "np.min(data[:,0]), np.max(data[:,0])"
   ]
  },
  {
   "cell_type": "markdown",
   "metadata": {},
   "source": [
    "# Treinamento"
   ]
  },
  {
   "cell_type": "code",
   "execution_count": 25,
   "metadata": {},
   "outputs": [],
   "source": [
    "# Modelos\n",
    "from sklearn.neural_network import MLPClassifier\n",
    "from sklearn.svm import SVC\n",
    "from sklearn.tree import DecisionTreeClassifier\n",
    "\n",
    "# K-fold CrossValidation\n",
    "from sklearn.model_selection import KFold\n",
    "\n",
    "# Métricas\n",
    "from sklearn.metrics import accuracy_score, recall_score, precision_score\n",
    "\n",
    "from sklearn.utils import resample\n",
    "from collections import Counter\n",
    "from sklearn.model_selection import train_test_split\n",
    "\n",
    "from sklearn.utils import shuffle"
   ]
  },
  {
   "cell_type": "code",
   "execution_count": 46,
   "metadata": {},
   "outputs": [],
   "source": [
    "def oversampling(x, y, random_state=0):\n",
    "    cnt = Counter()\n",
    "    for cat in y:\n",
    "        cnt[cat] += 1\n",
    "\n",
    "    classe_majo = cnt.most_common()[0][0]\n",
    "    num_samples = cnt.most_common()[0][1]\n",
    "\n",
    "    dados_bal = []\n",
    "    labels_bal = []\n",
    "    for classes in np.unique(y):\n",
    "        if not classes == classe_majo:\n",
    "            dados = x[y == classes]\n",
    "            label = y[y == classes]\n",
    "\n",
    "            sampled_dados, sampled_label = resample(dados, \n",
    "                                           label, \n",
    "                                           n_samples=num_samples,\n",
    "                                           random_state=random_state)\n",
    "\n",
    "            dados_bal.append(sampled_dados)\n",
    "            labels_bal.append(sampled_label)\n",
    "        else:\n",
    "            dados_bal.append(x[y == classe_majo])\n",
    "            labels_bal.append(y[y == classe_majo])\n",
    "\n",
    "    return np.vstack(dados_bal), np.hstack(labels_bal)"
   ]
  },
  {
   "cell_type": "code",
   "execution_count": 47,
   "metadata": {},
   "outputs": [
    {
     "name": "stdout",
     "output_type": "stream",
     "text": [
      "Validação Cruzada - Fold 1\n",
      "Conjunto de treinamento - Dados (900, 8) - (900,)\n",
      "Conjunto de teste - Dados (100, 8) - (100,)\n",
      "____________________________________________________________________________\n",
      "Modelo MLP 1\n",
      "Após reamostragem....\n",
      "Conjunto de treinamento - Dados (900, 8) - (900,)\n",
      "Modelo MLP 2\n",
      "Após reamostragem....\n",
      "Conjunto de treinamento - Dados (900, 8) - (900,)\n"
     ]
    },
    {
     "name": "stderr",
     "output_type": "stream",
     "text": [
      "C:\\Users\\i815354\\AppData\\Local\\Continuum\\anaconda3\\lib\\site-packages\\sklearn\\neural_network\\multilayer_perceptron.py:562: ConvergenceWarning: Stochastic Optimizer: Maximum iterations (200) reached and the optimization hasn't converged yet.\n",
      "  % self.max_iter, ConvergenceWarning)\n"
     ]
    },
    {
     "name": "stdout",
     "output_type": "stream",
     "text": [
      "Modelo MLP 3\n",
      "Após reamostragem....\n",
      "Conjunto de treinamento - Dados (900, 8) - (900,)\n",
      "Modelo MLP 4\n",
      "Após reamostragem....\n",
      "Conjunto de treinamento - Dados (900, 8) - (900,)\n",
      "Modelo MLP 5\n",
      "Após reamostragem....\n",
      "Conjunto de treinamento - Dados (900, 8) - (900,)\n",
      "Predição de todos os modelos (5, 100)\n",
      "____________________________________________________________________________\n",
      "Métricas - Fold 1\n",
      "Acurácia: 0.72\n",
      "Recall: 0.7115384615384616\n",
      "Precision: 0.74\n",
      "############################################################################\n",
      "Validação Cruzada - Fold 2\n",
      "Conjunto de treinamento - Dados (900, 8) - (900,)\n",
      "Conjunto de teste - Dados (100, 8) - (100,)\n",
      "____________________________________________________________________________\n",
      "Modelo MLP 1\n",
      "Após reamostragem....\n",
      "Conjunto de treinamento - Dados (900, 8) - (900,)\n"
     ]
    },
    {
     "name": "stderr",
     "output_type": "stream",
     "text": [
      "C:\\Users\\i815354\\AppData\\Local\\Continuum\\anaconda3\\lib\\site-packages\\sklearn\\neural_network\\multilayer_perceptron.py:562: ConvergenceWarning: Stochastic Optimizer: Maximum iterations (200) reached and the optimization hasn't converged yet.\n",
      "  % self.max_iter, ConvergenceWarning)\n"
     ]
    },
    {
     "name": "stdout",
     "output_type": "stream",
     "text": [
      "Modelo MLP 2\n",
      "Após reamostragem....\n",
      "Conjunto de treinamento - Dados (900, 8) - (900,)\n",
      "Modelo MLP 3\n",
      "Após reamostragem....\n",
      "Conjunto de treinamento - Dados (900, 8) - (900,)\n",
      "Modelo MLP 4\n",
      "Após reamostragem....\n",
      "Conjunto de treinamento - Dados (900, 8) - (900,)\n",
      "Modelo MLP 5\n",
      "Após reamostragem....\n",
      "Conjunto de treinamento - Dados (900, 8) - (900,)\n",
      "Predição de todos os modelos (5, 100)\n",
      "____________________________________________________________________________\n",
      "Métricas - Fold 2\n",
      "Acurácia: 0.77\n",
      "Recall: 0.7115384615384616\n",
      "Precision: 0.8222222222222222\n",
      "############################################################################\n",
      "Validação Cruzada - Fold 3\n",
      "Conjunto de treinamento - Dados (900, 8) - (900,)\n",
      "Conjunto de teste - Dados (100, 8) - (100,)\n",
      "____________________________________________________________________________\n",
      "Modelo MLP 1\n",
      "Após reamostragem....\n",
      "Conjunto de treinamento - Dados (900, 8) - (900,)\n",
      "Modelo MLP 2\n",
      "Após reamostragem....\n",
      "Conjunto de treinamento - Dados (900, 8) - (900,)\n",
      "Modelo MLP 3\n",
      "Após reamostragem....\n",
      "Conjunto de treinamento - Dados (900, 8) - (900,)\n",
      "Modelo MLP 4\n",
      "Após reamostragem....\n",
      "Conjunto de treinamento - Dados (900, 8) - (900,)\n",
      "Modelo MLP 5\n",
      "Após reamostragem....\n",
      "Conjunto de treinamento - Dados (900, 8) - (900,)\n",
      "Predição de todos os modelos (5, 100)\n",
      "____________________________________________________________________________\n",
      "Métricas - Fold 3\n",
      "Acurácia: 0.73\n",
      "Recall: 0.8260869565217391\n",
      "Precision: 0.6666666666666666\n",
      "############################################################################\n",
      "Validação Cruzada - Fold 4\n",
      "Conjunto de treinamento - Dados (900, 8) - (900,)\n",
      "Conjunto de teste - Dados (100, 8) - (100,)\n",
      "____________________________________________________________________________\n",
      "Modelo MLP 1\n",
      "Após reamostragem....\n",
      "Conjunto de treinamento - Dados (900, 8) - (900,)\n",
      "Modelo MLP 2\n",
      "Após reamostragem....\n",
      "Conjunto de treinamento - Dados (900, 8) - (900,)\n"
     ]
    },
    {
     "name": "stderr",
     "output_type": "stream",
     "text": [
      "C:\\Users\\i815354\\AppData\\Local\\Continuum\\anaconda3\\lib\\site-packages\\sklearn\\neural_network\\multilayer_perceptron.py:562: ConvergenceWarning: Stochastic Optimizer: Maximum iterations (200) reached and the optimization hasn't converged yet.\n",
      "  % self.max_iter, ConvergenceWarning)\n"
     ]
    },
    {
     "name": "stdout",
     "output_type": "stream",
     "text": [
      "Modelo MLP 3\n",
      "Após reamostragem....\n",
      "Conjunto de treinamento - Dados (900, 8) - (900,)\n",
      "Modelo MLP 4\n",
      "Após reamostragem....\n",
      "Conjunto de treinamento - Dados (900, 8) - (900,)\n",
      "Modelo MLP 5\n",
      "Após reamostragem....\n",
      "Conjunto de treinamento - Dados (900, 8) - (900,)\n",
      "Predição de todos os modelos (5, 100)\n",
      "____________________________________________________________________________\n",
      "Métricas - Fold 4\n",
      "Acurácia: 0.78\n",
      "Recall: 0.7380952380952381\n",
      "Precision: 0.7380952380952381\n",
      "############################################################################\n",
      "Validação Cruzada - Fold 5\n",
      "Conjunto de treinamento - Dados (900, 8) - (900,)\n",
      "Conjunto de teste - Dados (100, 8) - (100,)\n",
      "____________________________________________________________________________\n",
      "Modelo MLP 1\n",
      "Após reamostragem....\n",
      "Conjunto de treinamento - Dados (900, 8) - (900,)\n"
     ]
    },
    {
     "name": "stderr",
     "output_type": "stream",
     "text": [
      "C:\\Users\\i815354\\AppData\\Local\\Continuum\\anaconda3\\lib\\site-packages\\sklearn\\neural_network\\multilayer_perceptron.py:562: ConvergenceWarning: Stochastic Optimizer: Maximum iterations (200) reached and the optimization hasn't converged yet.\n",
      "  % self.max_iter, ConvergenceWarning)\n"
     ]
    },
    {
     "name": "stdout",
     "output_type": "stream",
     "text": [
      "Modelo MLP 2\n",
      "Após reamostragem....\n",
      "Conjunto de treinamento - Dados (900, 8) - (900,)\n",
      "Modelo MLP 3\n",
      "Após reamostragem....\n",
      "Conjunto de treinamento - Dados (900, 8) - (900,)\n",
      "Modelo MLP 4\n",
      "Após reamostragem....\n",
      "Conjunto de treinamento - Dados (900, 8) - (900,)\n",
      "Modelo MLP 5\n",
      "Após reamostragem....\n",
      "Conjunto de treinamento - Dados (900, 8) - (900,)\n",
      "Predição de todos os modelos (5, 100)\n",
      "____________________________________________________________________________\n",
      "Métricas - Fold 5\n",
      "Acurácia: 0.73\n",
      "Recall: 0.7708333333333334\n",
      "Precision: 0.6981132075471698\n",
      "############################################################################\n",
      "Validação Cruzada - Fold 6\n",
      "Conjunto de treinamento - Dados (900, 8) - (900,)\n",
      "Conjunto de teste - Dados (100, 8) - (100,)\n",
      "____________________________________________________________________________\n",
      "Modelo MLP 1\n",
      "Após reamostragem....\n",
      "Conjunto de treinamento - Dados (900, 8) - (900,)\n",
      "Modelo MLP 2\n",
      "Após reamostragem....\n",
      "Conjunto de treinamento - Dados (900, 8) - (900,)\n",
      "Modelo MLP 3\n",
      "Após reamostragem....\n",
      "Conjunto de treinamento - Dados (900, 8) - (900,)\n",
      "Modelo MLP 4\n",
      "Após reamostragem....\n",
      "Conjunto de treinamento - Dados (900, 8) - (900,)\n",
      "Modelo MLP 5\n",
      "Após reamostragem....\n",
      "Conjunto de treinamento - Dados (900, 8) - (900,)\n",
      "Predição de todos os modelos (5, 100)\n",
      "____________________________________________________________________________\n",
      "Métricas - Fold 6\n",
      "Acurácia: 0.72\n",
      "Recall: 0.717391304347826\n",
      "Precision: 0.6875\n",
      "############################################################################\n",
      "Validação Cruzada - Fold 7\n",
      "Conjunto de treinamento - Dados (900, 8) - (900,)\n",
      "Conjunto de teste - Dados (100, 8) - (100,)\n",
      "____________________________________________________________________________\n",
      "Modelo MLP 1\n",
      "Após reamostragem....\n",
      "Conjunto de treinamento - Dados (900, 8) - (900,)\n",
      "Modelo MLP 2\n",
      "Após reamostragem....\n",
      "Conjunto de treinamento - Dados (900, 8) - (900,)\n",
      "Modelo MLP 3\n",
      "Após reamostragem....\n",
      "Conjunto de treinamento - Dados (900, 8) - (900,)\n",
      "Modelo MLP 4\n",
      "Após reamostragem....\n",
      "Conjunto de treinamento - Dados (900, 8) - (900,)\n",
      "Modelo MLP 5\n",
      "Após reamostragem....\n",
      "Conjunto de treinamento - Dados (900, 8) - (900,)\n",
      "Predição de todos os modelos (5, 100)\n",
      "____________________________________________________________________________\n",
      "Métricas - Fold 7\n",
      "Acurácia: 0.7\n",
      "Recall: 0.6363636363636364\n",
      "Precision: 0.7777777777777778\n",
      "############################################################################\n",
      "Validação Cruzada - Fold 8\n",
      "Conjunto de treinamento - Dados (900, 8) - (900,)\n",
      "Conjunto de teste - Dados (100, 8) - (100,)\n",
      "____________________________________________________________________________\n",
      "Modelo MLP 1\n",
      "Após reamostragem....\n",
      "Conjunto de treinamento - Dados (900, 8) - (900,)\n",
      "Modelo MLP 2\n",
      "Após reamostragem....\n",
      "Conjunto de treinamento - Dados (900, 8) - (900,)\n",
      "Modelo MLP 3\n",
      "Após reamostragem....\n",
      "Conjunto de treinamento - Dados (900, 8) - (900,)\n",
      "Modelo MLP 4\n",
      "Após reamostragem....\n",
      "Conjunto de treinamento - Dados (900, 8) - (900,)\n",
      "Modelo MLP 5\n",
      "Após reamostragem....\n",
      "Conjunto de treinamento - Dados (900, 8) - (900,)\n",
      "Predição de todos os modelos (5, 100)\n",
      "____________________________________________________________________________\n",
      "Métricas - Fold 8\n",
      "Acurácia: 0.68\n",
      "Recall: 0.6666666666666666\n",
      "Precision: 0.7692307692307693\n",
      "############################################################################\n",
      "Validação Cruzada - Fold 9\n",
      "Conjunto de treinamento - Dados (900, 8) - (900,)\n",
      "Conjunto de teste - Dados (100, 8) - (100,)\n",
      "____________________________________________________________________________\n",
      "Modelo MLP 1\n",
      "Após reamostragem....\n",
      "Conjunto de treinamento - Dados (900, 8) - (900,)\n"
     ]
    },
    {
     "name": "stderr",
     "output_type": "stream",
     "text": [
      "C:\\Users\\i815354\\AppData\\Local\\Continuum\\anaconda3\\lib\\site-packages\\sklearn\\neural_network\\multilayer_perceptron.py:562: ConvergenceWarning: Stochastic Optimizer: Maximum iterations (200) reached and the optimization hasn't converged yet.\n",
      "  % self.max_iter, ConvergenceWarning)\n"
     ]
    },
    {
     "name": "stdout",
     "output_type": "stream",
     "text": [
      "Modelo MLP 2\n",
      "Após reamostragem....\n",
      "Conjunto de treinamento - Dados (900, 8) - (900,)\n",
      "Modelo MLP 3\n",
      "Após reamostragem....\n",
      "Conjunto de treinamento - Dados (900, 8) - (900,)\n",
      "Modelo MLP 4\n",
      "Após reamostragem....\n",
      "Conjunto de treinamento - Dados (900, 8) - (900,)\n",
      "Modelo MLP 5\n",
      "Após reamostragem....\n",
      "Conjunto de treinamento - Dados (900, 8) - (900,)\n",
      "Predição de todos os modelos (5, 100)\n",
      "____________________________________________________________________________\n",
      "Métricas - Fold 9\n",
      "Acurácia: 0.76\n",
      "Recall: 0.8363636363636363\n",
      "Precision: 0.7540983606557377\n",
      "############################################################################\n",
      "Validação Cruzada - Fold 10\n",
      "Conjunto de treinamento - Dados (900, 8) - (900,)\n",
      "Conjunto de teste - Dados (100, 8) - (100,)\n",
      "____________________________________________________________________________\n",
      "Modelo MLP 1\n",
      "Após reamostragem....\n",
      "Conjunto de treinamento - Dados (900, 8) - (900,)\n",
      "Modelo MLP 2\n",
      "Após reamostragem....\n",
      "Conjunto de treinamento - Dados (900, 8) - (900,)\n",
      "Modelo MLP 3\n",
      "Após reamostragem....\n",
      "Conjunto de treinamento - Dados (900, 8) - (900,)\n",
      "Modelo MLP 4\n",
      "Após reamostragem....\n",
      "Conjunto de treinamento - Dados (900, 8) - (900,)\n",
      "Modelo MLP 5\n",
      "Após reamostragem....\n",
      "Conjunto de treinamento - Dados (900, 8) - (900,)\n",
      "Predição de todos os modelos (5, 100)\n",
      "____________________________________________________________________________\n",
      "Métricas - Fold 10\n",
      "Acurácia: 0.67\n",
      "Recall: 0.6590909090909091\n",
      "Precision: 0.6170212765957447\n",
      "############################################################################\n"
     ]
    }
   ],
   "source": [
    "n_modelos = 5\n",
    "kf = KFold(n_splits=10)\n",
    "num_samples = 900\n",
    "random_state=42\n",
    "\n",
    "performance = {\n",
    "    'acuracia': [],\n",
    "    'recall': [],\n",
    "    'precisao': []\n",
    "}\n",
    "\n",
    "balanced_data, balanced_labels = oversampling(data,labels,random_state)\n",
    "balanced_data, balanced_labels = shuffle(balanced_data, balanced_labels, random_state=random_state)\n",
    "curr_fold = 1\n",
    "\n",
    "for train_index, test_index in kf.split(balanced_data):\n",
    "    \n",
    "    X_train, X_test = balanced_data[train_index], balanced_data[test_index]\n",
    "    y_train, y_test = balanced_labels[train_index], balanced_labels[test_index]\n",
    "    \n",
    "    print('Validação Cruzada - Fold {}'.format(curr_fold))\n",
    "    print('Conjunto de treinamento - Dados {} - {}'.format(X_train.shape, y_train.shape))\n",
    "    print('Conjunto de teste - Dados {} - {}'.format(X_test.shape, y_test.shape))\n",
    "    print('____________________________________________________________________________')\n",
    "    \n",
    "    # Bagging\n",
    "    predictions = []\n",
    "    ensemble_predictions = []\n",
    "    for n in range(n_modelos):\n",
    "        sample_X_train, sample_y_train = resample(X_train, \n",
    "                                                  y_train, \n",
    "                                                  n_samples=num_samples,\n",
    "                                                  random_state=random_state)\n",
    "        \n",
    "        print('Modelo MLP {}'.format(n+1))\n",
    "        \n",
    "        mlp = MLPClassifier()\n",
    "        \n",
    "        print('Após reamostragem....')\n",
    "        print('Conjunto de treinamento - Dados {} - {}'.format(sample_X_train.shape, sample_y_train.shape))\n",
    "        \n",
    "        # Treino de cada modelo\n",
    "        mlp.fit(sample_X_train, sample_y_train)\n",
    "        \n",
    "        # Avaliação\n",
    "        predictions.append(mlp.predict(X_test))\n",
    "        \n",
    "    predictions = np.vstack(predictions)\n",
    "    print('Predição de todos os modelos {}'.format(predictions.shape))\n",
    "    \n",
    "    # Voto Majoritário\n",
    "    for col in range(predictions.shape[1]):\n",
    "        cnt = Counter()\n",
    "        \n",
    "        votes = predictions[:,col]\n",
    "        for vote in votes:\n",
    "            cnt[vote] += 1\n",
    "        ensemble_predictions.append(cnt.most_common()[0][0]) # Categoria mais votada\n",
    "        \n",
    "    \n",
    "    print('____________________________________________________________________________')\n",
    "    \n",
    "    # Cálculo de métricas\n",
    "    ens_acc = accuracy_score(y_test, ensemble_predictions)\n",
    "    ens_recall = recall_score(y_test, ensemble_predictions)\n",
    "    ens_precisao = precision_score(y_test, ensemble_predictions)\n",
    "    \n",
    "    print('Métricas - Fold {}'.format(curr_fold))\n",
    "    print('Acurácia: {}'.format(ens_acc))\n",
    "    print('Recall: {}'.format(ens_recall))\n",
    "    print('Precision: {}'.format(ens_precisao))\n",
    "    print('############################################################################')\n",
    "    \n",
    "    performance['acuracia'].append(ens_acc)\n",
    "    performance['recall'].append(ens_recall)\n",
    "    performance['precisao'].append(ens_precisao)\n",
    "    \n",
    "    curr_fold += 1\n",
    "    \n",
    "    \n",
    "resultados = pd.DataFrame(performance)"
   ]
  },
  {
   "cell_type": "code",
   "execution_count": 64,
   "metadata": {},
   "outputs": [
    {
     "name": "stdout",
     "output_type": "stream",
     "text": [
      "   acuracia    recall  precisao\n",
      "0      0.72  0.711538  0.740000\n",
      "1      0.77  0.711538  0.822222\n",
      "2      0.73  0.826087  0.666667\n",
      "3      0.78  0.738095  0.738095\n",
      "4      0.73  0.770833  0.698113\n",
      "5      0.72  0.717391  0.687500\n",
      "6      0.70  0.636364  0.777778\n",
      "7      0.68  0.666667  0.769231\n",
      "8      0.76  0.836364  0.754098\n",
      "9      0.67  0.659091  0.617021\n"
     ]
    }
   ],
   "source": [
    "print(resultados)"
   ]
  },
  {
   "cell_type": "code",
   "execution_count": 61,
   "metadata": {},
   "outputs": [
    {
     "name": "stdout",
     "output_type": "stream",
     "text": [
      "[1.0, 1.0, 1.0, 1.0, 1.0, 1.0, 0.0, 0.0, 1.0, 0.0, 0.0, 0.0, 0.0, 1.0, 0.0, 0.0, 1.0, 1.0, 1.0, 0.0, 1.0, 0.0, 0.0, 1.0, 0.0, 1.0, 0.0, 1.0, 0.0, 1.0, 1.0, 0.0, 0.0, 0.0, 0.0, 1.0, 1.0, 1.0, 0.0, 0.0, 1.0, 0.0, 1.0, 0.0, 0.0, 0.0, 0.0, 1.0, 0.0, 1.0, 1.0, 1.0, 0.0, 0.0, 0.0, 1.0, 0.0, 0.0, 1.0, 0.0, 0.0, 0.0, 1.0, 1.0, 0.0, 1.0, 0.0, 0.0, 1.0, 0.0, 1.0, 0.0, 0.0, 1.0, 0.0, 0.0, 0.0, 1.0, 0.0, 0.0, 0.0, 1.0, 1.0, 1.0, 0.0, 1.0, 1.0, 1.0, 1.0, 1.0, 0.0, 1.0, 0.0, 1.0, 0.0, 0.0, 1.0, 0.0, 1.0, 0.0]\n"
     ]
    }
   ],
   "source": [
    "print(ensemble_predictions)"
   ]
  },
  {
   "cell_type": "code",
   "execution_count": null,
   "metadata": {},
   "outputs": [],
   "source": []
  }
 ],
 "metadata": {
  "kernelspec": {
   "display_name": "Python 3",
   "language": "python",
   "name": "python3"
  },
  "language_info": {
   "codemirror_mode": {
    "name": "ipython",
    "version": 3
   },
   "file_extension": ".py",
   "mimetype": "text/x-python",
   "name": "python",
   "nbconvert_exporter": "python",
   "pygments_lexer": "ipython3",
   "version": "3.7.3"
  }
 },
 "nbformat": 4,
 "nbformat_minor": 2
}
